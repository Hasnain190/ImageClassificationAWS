{
 "cells": [
  {
   "cell_type": "code",
   "execution_count": 2,
   "metadata": {},
   "outputs": [],
   "source": [
    "import tensorflow as tf\n",
    "import os\n",
    "import numpy as np\n",
    "import matplotlib.pyplot as plt\n",
    "import cv2"
   ]
  },
  {
   "cell_type": "code",
   "execution_count": 3,
   "metadata": {},
   "outputs": [],
   "source": [
    "WIDTH = 180\n",
    "HEIGHT = 180\n",
    "CHANNELS =1"
   ]
  },
  {
   "cell_type": "code",
   "execution_count": 74,
   "metadata": {},
   "outputs": [],
   "source": [
    "def load_image(image_path):\n",
    "    img = plt.imread(image_path)\n",
    "    img = cv2.resize(img, (WIDTH, HEIGHT))\n",
    "    if len(img.shape) > 2: \n",
    "        img = cv2.cvtColor(img, cv2.COLOR_BGR2GRAY)\n",
    "    img = img/ 255\n",
    "    img = np.expand_dims(img, axis=0)    \n",
    "    return img\n"
   ]
  },
  {
   "cell_type": "code",
   "execution_count": 75,
   "metadata": {},
   "outputs": [],
   "source": [
    "    \n",
    "def predict(image_path):\n",
    "    model = tf.keras.models.load_model('./my_model.h5')\n",
    "\n",
    "    img = load_image(image_path)\n",
    "\n",
    "    pred = model.predict(img)\n",
    "    \n",
    "    return pred"
   ]
  },
  {
   "cell_type": "code",
   "execution_count": 76,
   "metadata": {},
   "outputs": [
    {
     "name": "stdout",
     "output_type": "stream",
     "text": [
      "1/1 [==============================] - 0s 114ms/step\n",
      "No Finding\n",
      "Infiltration\n",
      "Atelectasis\n",
      "Edema\n"
     ]
    }
   ],
   "source": [
    "class_names = ['Atelectasis', 'Cardiomegaly', 'Consolidation', 'Edema', 'Effusion', 'Emphysema', 'Fibrosis', 'Hernia', 'Infiltration', 'Mass', 'No Finding', 'Nodule', 'Pleural_Thickening', 'Pneumonia', 'Pneumothorax']\n",
    "TOP_CLASSES = 4\n",
    "\n",
    "\n",
    "prediction = predict('./00000061_013.png')\n",
    "\n",
    "# Get the top 4 predicted classes\n",
    "top_4_classes = prediction.argsort()[0][-TOP_CLASSES:][::-1]\n",
    "\n",
    "# Print the top 4 predicted classes\n",
    "for class_index in top_4_classes:\n",
    "    probable_disease = class_names[class_index]\n",
    "    print(probable_disease)\n"
   ]
  }
 ],
 "metadata": {
  "kernelspec": {
   "display_name": "env",
   "language": "python",
   "name": "python3"
  },
  "language_info": {
   "codemirror_mode": {
    "name": "ipython",
    "version": 3
   },
   "file_extension": ".py",
   "mimetype": "text/x-python",
   "name": "python",
   "nbconvert_exporter": "python",
   "pygments_lexer": "ipython3",
   "version": "3.11.2"
  }
 },
 "nbformat": 4,
 "nbformat_minor": 2
}
